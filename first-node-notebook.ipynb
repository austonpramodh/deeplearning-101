{
 "cells": [
  {
   "cell_type": "code",
   "execution_count": 5,
   "id": "809d9fba-e8b6-4446-b7e2-5302742dc95d",
   "metadata": {
    "tags": []
   },
   "outputs": [
    {
     "ename": "SyntaxError",
     "evalue": "Identifier 'a' has already been declared",
     "execution_count": 5,
     "output_type": "error",
     "traceback": [
      "evalmachine.<anonymous>:1",
      "const a = 100",
      "^",
      "",
      "SyntaxError: Identifier 'a' has already been declared",
      "    at Script.runInThisContext (node:vm:129:12)",
      "    at Object.runInThisContext (node:vm:307:38)",
      "    at run ([eval]:1020:15)",
      "    at onRunRequest ([eval]:864:18)",
      "    at onMessage ([eval]:828:13)",
      "    at process.emit (node:events:513:28)",
      "    at emit (node:internal/child_process:937:14)",
      "    at process.processTicksAndRejections (node:internal/process/task_queues:83:21)"
     ]
    }
   ],
   "source": [
    "const a = 100"
   ]
  },
  {
   "cell_type": "code",
   "execution_count": 6,
   "id": "a13c9fff-7730-445c-9677-6ac58a8f2323",
   "metadata": {
    "tags": []
   },
   "outputs": [
    {
     "name": "stdout",
     "output_type": "stream",
     "text": [
      "100\n"
     ]
    }
   ],
   "source": [
    "console.log(a)"
   ]
  }
 ],
 "metadata": {
  "kernelspec": {
   "display_name": "JavaScript (Node.js)",
   "language": "javascript",
   "name": "javascript"
  },
  "language_info": {
   "file_extension": ".js",
   "mimetype": "application/javascript",
   "name": "javascript",
   "version": "18.14.0"
  }
 },
 "nbformat": 4,
 "nbformat_minor": 5
}
